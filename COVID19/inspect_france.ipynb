{
 "cells": [
  {
   "cell_type": "code",
   "execution_count": null,
   "metadata": {
    "pycharm": {
     "is_executing": true
    }
   },
   "outputs": [],
   "source": [
    "import os\n",
    "import pandas as pd\n",
    "\n",
    "pd.options.plotting.backend = \"plotly\""
   ]
  },
  {
   "cell_type": "code",
   "execution_count": null,
   "metadata": {
    "pycharm": {
     "name": "#%%\n"
    }
   },
   "outputs": [],
   "source": [
    "with open('default.env', 'r') as file:\n",
    "    var_name = 'path_dir_COVID19_repo'\n",
    "    first_line = file.readline().strip()\n",
    "    assert var_name + '=' == first_line[:len(var_name + '=')]\n",
    "    path_dir_COVID19_repo = first_line[len(var_name + '='):]"
   ]
  },
  {
   "cell_type": "code",
   "execution_count": null,
   "metadata": {
    "pycharm": {
     "name": "#%%\n"
    }
   },
   "outputs": [],
   "source": [
    "def prepare_df_states(df):\n",
    "    return df.drop(columns=['Province/State', 'Lat', 'Long']).groupby('Country/Region').sum()"
   ]
  },
  {
   "cell_type": "code",
   "execution_count": null,
   "metadata": {
    "pycharm": {
     "name": "#%%\n"
    }
   },
   "outputs": [],
   "source": [
    "# Extracting data from csv files and creating dataframes\n",
    "# Defining paths to files\n",
    "path_dir_data = os.path.join(path_dir_COVID19_repo, 'csse_covid_19_data', 'csse_covid_19_time_series')\n",
    "path_confirmed = os.path.join(path_dir_data, 'time_series_covid19_confirmed_global.csv')\n",
    "path_deaths = os.path.join(path_dir_data, 'time_series_covid19_deaths_global.csv')\n",
    "path_recovered = os.path.join(path_dir_data, 'time_series_covid19_recovered_global.csv')\n",
    "\n",
    "# Creation of dataframes\n",
    "df_confirmed = prepare_df_states(pd.read_csv(path_confirmed))\n",
    "df_deaths = prepare_df_states(pd.read_csv(path_deaths))\n",
    "df_recovered = prepare_df_states(pd.read_csv(path_recovered))"
   ]
  },
  {
   "cell_type": "code",
   "execution_count": null,
   "metadata": {
    "pycharm": {
     "name": "#%%\n"
    }
   },
   "outputs": [],
   "source": [
    "df_france_deaths = df_deaths.loc[['France'], :].T\n",
    "df_france_deaths.plot(title='Cumulated covid deaths in France')"
   ]
  },
  {
   "cell_type": "code",
   "execution_count": null,
   "metadata": {
    "pycharm": {
     "name": "#%%\n"
    }
   },
   "outputs": [],
   "source": [
    "df_france_deaths_daily = df_france_deaths.diff()\n",
    "df_france_deaths_daily.columns = ['daily']\n",
    "df_france_deaths_weekly_average = df_france_deaths_daily.rolling(7).mean()\n",
    "df_france_deaths_daily.loc[:, 'weekly average'] = df_france_deaths_weekly_average\n",
    "df_france_deaths_daily.plot(title='Number of daily covid deaths in France')"
   ]
  },
  {
   "cell_type": "code",
   "execution_count": null,
   "metadata": {
    "pycharm": {
     "name": "#%%\n"
    }
   },
   "outputs": [],
   "source": [
    "# Manually setting start & ends of covid tides (for the sake of quickness)\n",
    "index_tide1_start = df_france_deaths_daily.index.tolist().index(('3/4/20'))\n",
    "index_tide1_stop = df_france_deaths_daily.index.tolist().index(('6/30/20'))\n",
    "index_tide2_start = df_france_deaths_daily.index.tolist().index(('10/5/20'))\n",
    "index_tide2_stop = None\n",
    "df_len = df_france_deaths_daily.shape[0]"
   ]
  },
  {
   "cell_type": "code",
   "execution_count": null,
   "metadata": {
    "pycharm": {
     "name": "#%%\n"
    }
   },
   "outputs": [],
   "source": [
    "# tide 1\n",
    "df_tide1 = df_france_deaths_daily.iloc[index_tide1_start:index_tide1_stop, :].reset_index()\n",
    "df_tide1.columns = ['tide1, date', 'tide1, daily', 'tide1, weekly average']\n",
    "\n",
    "# tide 2\n",
    "df_tide2 = df_france_deaths_daily.iloc[index_tide2_start:index_tide2_stop, :].reset_index()\n",
    "df_tide2.columns = ['tide2, date', 'tide2, daily', 'tide2, weekly average']\n",
    "\n",
    "# merging data of the 2 tides\n",
    "df_tides_compare = df_tide1.merge(df_tide2, how='outer', left_index=True, right_index=True)"
   ]
  },
  {
   "cell_type": "code",
   "execution_count": null,
   "metadata": {
    "pycharm": {
     "name": "#%%\n"
    }
   },
   "outputs": [],
   "source": [
    "df_tides_compare[['tide1, daily', 'tide2, daily']].\\\n",
    "    plot(title='Number of daily covid deaths in France, raw data')"
   ]
  },
  {
   "cell_type": "code",
   "execution_count": null,
   "metadata": {
    "pycharm": {
     "name": "#%%\n"
    }
   },
   "outputs": [],
   "source": [
    "df_tides_compare[['tide1, weekly average', 'tide2, weekly average']].\\\n",
    "    plot(title='Number of daily covid deaths in France, weekly average')"
   ]
  }
 ],
 "metadata": {
  "kernelspec": {
   "display_name": "Python 3",
   "language": "python",
   "name": "python3"
  },
  "language_info": {
   "codemirror_mode": {
    "name": "ipython",
    "version": 3
   },
   "file_extension": ".py",
   "mimetype": "text/x-python",
   "name": "python",
   "nbconvert_exporter": "python",
   "pygments_lexer": "ipython3",
   "version": "3.7.0"
  }
 },
 "nbformat": 4,
 "nbformat_minor": 1
}